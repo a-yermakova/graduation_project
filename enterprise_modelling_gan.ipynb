{
 "cells": [
  {
   "cell_type": "code",
   "execution_count": 1,
   "metadata": {
    "collapsed": true
   },
   "outputs": [],
   "source": [
    "import pickle\n",
    "import torch.nn as nn\n",
    "import torch.utils.data\n",
    "import matplotlib.pyplot as plt"
   ]
  },
  {
   "cell_type": "code",
   "execution_count": 2,
   "outputs": [],
   "source": [
    "# Number of workers for dataloader\n",
    "workers = 2\n",
    "\n",
    "# Batch size during training\n",
    "batch_size = 10\n",
    "\n",
    "# Size of z latent vector (i.e. size of generator input)\n",
    "latent_dim = 100\n",
    "\n",
    "# Size of feature maps in generator\n",
    "m_size = 100\n",
    "\n",
    "# Number of training epochs\n",
    "num_epochs = 20\n",
    "\n",
    "# Learning rate for optimizers\n",
    "lr = 0.0001\n"
   ],
   "metadata": {
    "collapsed": false,
    "pycharm": {
     "name": "#%%\n"
    }
   }
  },
  {
   "cell_type": "code",
   "execution_count": 3,
   "outputs": [],
   "source": [
    "#Loading dataset\n",
    "with open('ds_train.pickle', 'rb') as f:\n",
    "    dataset = pickle.load(f)"
   ],
   "metadata": {
    "collapsed": false,
    "pycharm": {
     "name": "#%%\n"
    }
   }
  },
  {
   "cell_type": "code",
   "execution_count": 4,
   "outputs": [],
   "source": [
    "dataloader = torch.utils.data.DataLoader(dataset, batch_size=batch_size,\n",
    "                                         shuffle=True, num_workers=workers)\n",
    "\n",
    "device = torch.device(\"cuda:0\" if (torch.cuda.is_available()) else \"cpu\")\n",
    "\n",
    "real_batch = next(iter(dataloader))"
   ],
   "metadata": {
    "collapsed": false,
    "pycharm": {
     "name": "#%%\n"
    }
   }
  },
  {
   "cell_type": "code",
   "execution_count": 5,
   "outputs": [],
   "source": [
    "class Discriminator(nn.Module):\n",
    "    def __init__(self):\n",
    "        super().__init__()\n",
    "        self.model = nn.Sequential(\n",
    "            nn.Linear(m_size**2, 1250),\n",
    "            nn.ReLU(),\n",
    "            nn.Linear(1250, 850),\n",
    "            nn.ReLU(),\n",
    "            nn.Linear(850,425),\n",
    "            nn.ReLU(),\n",
    "            nn.Linear(425,100),\n",
    "            nn.ReLU(),\n",
    "            nn.Linear(100,1),\n",
    "            nn.Sigmoid(),\n",
    "        )\n",
    "\n",
    "    def forward(self, x):\n",
    "        output = self.model(x)\n",
    "        return output"
   ],
   "metadata": {
    "collapsed": false,
    "pycharm": {
     "name": "#%%\n"
    }
   }
  },
  {
   "cell_type": "code",
   "execution_count": 6,
   "outputs": [],
   "source": [
    "discriminator = Discriminator()"
   ],
   "metadata": {
    "collapsed": false,
    "pycharm": {
     "name": "#%%\n"
    }
   }
  },
  {
   "cell_type": "code",
   "execution_count": 7,
   "outputs": [],
   "source": [
    "class Generator(nn.Module):\n",
    "    def __init__(self):\n",
    "        super().__init__()\n",
    "        self.model = nn.Sequential(\n",
    "            nn.Linear(latent_dim, 200),\n",
    "            nn.ReLU(),\n",
    "            nn.Linear(200, 400),\n",
    "            nn.ReLU(),\n",
    "            nn.Linear(400, m_size**2),\n",
    "        )\n",
    "\n",
    "    def forward(self, x):\n",
    "        output = self.model(x)\n",
    "        return output\n",
    "\n",
    "generator = Generator()"
   ],
   "metadata": {
    "collapsed": false,
    "pycharm": {
     "name": "#%%\n"
    }
   }
  },
  {
   "cell_type": "code",
   "execution_count": 8,
   "outputs": [],
   "source": [
    "# Initialize BCELoss function\n",
    "loss_function = nn.BCELoss()"
   ],
   "metadata": {
    "collapsed": false,
    "pycharm": {
     "name": "#%%\n"
    }
   }
  },
  {
   "cell_type": "code",
   "execution_count": 9,
   "outputs": [],
   "source": [
    "optimizer_discriminator = torch.optim.Adam(discriminator.parameters(), lr=lr)\n",
    "optimizer_generator = torch.optim.Adam(generator.parameters(), lr=lr)"
   ],
   "metadata": {
    "collapsed": false,
    "pycharm": {
     "name": "#%%\n"
    }
   }
  },
  {
   "cell_type": "code",
   "execution_count": 10,
   "outputs": [
    {
     "name": "stdout",
     "output_type": "stream",
     "text": [
      "Epoch: 0 Loss D.: 0.6644932627677917\n",
      "Epoch: 0 Loss G.: 0.7426209449768066\n",
      "Epoch: 1 Loss D.: 1.0792967081069946\n",
      "Epoch: 1 Loss G.: 13.57110595703125\n",
      "Epoch: 2 Loss D.: 0.1977444887161255\n",
      "Epoch: 2 Loss G.: 6.656052589416504\n",
      "Epoch: 3 Loss D.: 0.046119771897792816\n",
      "Epoch: 3 Loss G.: 6.079687595367432\n",
      "Epoch: 4 Loss D.: 0.1283041536808014\n",
      "Epoch: 4 Loss G.: 5.860581874847412\n",
      "Epoch: 5 Loss D.: 0.014296305365860462\n",
      "Epoch: 5 Loss G.: 3.912930965423584\n",
      "Epoch: 6 Loss D.: 0.059002239257097244\n",
      "Epoch: 6 Loss G.: 4.39129638671875\n",
      "Epoch: 7 Loss D.: 0.05907974764704704\n",
      "Epoch: 7 Loss G.: 3.1145381927490234\n",
      "Epoch: 8 Loss D.: 0.030929183587431908\n",
      "Epoch: 8 Loss G.: 2.8728907108306885\n",
      "Epoch: 9 Loss D.: 0.06633733212947845\n",
      "Epoch: 9 Loss G.: 4.100534915924072\n",
      "Epoch: 10 Loss D.: 0.019958671182394028\n",
      "Epoch: 10 Loss G.: 3.4582836627960205\n",
      "Epoch: 11 Loss D.: 0.0080877635627985\n",
      "Epoch: 11 Loss G.: 4.41606330871582\n",
      "Epoch: 12 Loss D.: 0.6180540919303894\n",
      "Epoch: 12 Loss G.: 8.248663902282715\n",
      "Epoch: 13 Loss D.: 0.01286817155778408\n",
      "Epoch: 13 Loss G.: 4.558667182922363\n",
      "Epoch: 14 Loss D.: 0.04391881823539734\n",
      "Epoch: 14 Loss G.: 4.626712799072266\n",
      "Epoch: 15 Loss D.: 0.10804758965969086\n",
      "Epoch: 15 Loss G.: 3.9811477661132812\n",
      "Epoch: 16 Loss D.: 0.05334572121500969\n",
      "Epoch: 16 Loss G.: 5.7993974685668945\n",
      "Epoch: 17 Loss D.: 0.254381000995636\n",
      "Epoch: 17 Loss G.: 4.138148784637451\n",
      "Epoch: 18 Loss D.: 0.010050663724541664\n",
      "Epoch: 18 Loss G.: 4.1313557624816895\n",
      "Epoch: 19 Loss D.: 0.0015063208993524313\n",
      "Epoch: 19 Loss G.: 7.254000663757324\n"
     ]
    }
   ],
   "source": [
    "G_losses = []\n",
    "D_losses = []\n",
    "for epoch in range(num_epochs):\n",
    "    for n, (real_samples) in enumerate(dataloader,0):\n",
    "        real_samples_labels = torch.ones((batch_size, 1))\n",
    "        latent_space_samples = torch.rand((batch_size, latent_dim))\n",
    "        generated_samples = generator(latent_space_samples)\n",
    "        generated_samples = generated_samples.view(batch_size, m_size, m_size)\n",
    "        generated_samples_labels = torch.zeros((batch_size, 1))\n",
    "        all_samples = torch.cat((real_samples, generated_samples))\n",
    "        all_samples_labels = torch.cat(\n",
    "            (real_samples_labels, generated_samples_labels))\n",
    "\n",
    "        discriminator.zero_grad()\n",
    "        all_samples = all_samples.view(batch_size*2, -1)\n",
    "        output_discriminator = discriminator(all_samples)\n",
    "        loss_discriminator = loss_function(\n",
    "            output_discriminator, all_samples_labels)\n",
    "        loss_discriminator.backward()\n",
    "        optimizer_discriminator.step()\n",
    "        latent_space_samples = torch.rand((batch_size, latent_dim))\n",
    "\n",
    "        generator.zero_grad()\n",
    "        generated_samples = generator(latent_space_samples)\n",
    "        output_discriminator_generated = discriminator(generated_samples)\n",
    "        loss_generator = loss_function(\n",
    "            output_discriminator_generated, real_samples_labels\n",
    "        )\n",
    "        loss_generator.backward()\n",
    "        optimizer_generator.step()\n",
    "\n",
    "        G_losses.append(loss_generator.item())\n",
    "        D_losses.append(loss_discriminator.item())\n",
    "\n",
    "        if n == batch_size - 1:\n",
    "            print(f\"Epoch: {epoch} Loss D.: {loss_discriminator}\")\n",
    "            print(f\"Epoch: {epoch} Loss G.: {loss_generator}\")"
   ],
   "metadata": {
    "collapsed": false,
    "pycharm": {
     "name": "#%%\n"
    }
   }
  },
  {
   "cell_type": "code",
   "execution_count": 11,
   "outputs": [
    {
     "name": "stdout",
     "output_type": "stream",
     "text": [
      "tensor([[-1.0077e-02,  7.8712e-03,  1.8841e-02,  ...,  1.2171e-03,\n",
      "          4.4638e-03,  4.7984e-03],\n",
      "        [ 1.0042e-02, -1.7670e-03,  1.7939e-01,  ..., -2.1233e-03,\n",
      "         -2.7120e-03,  2.3214e-03],\n",
      "        [ 1.9208e-01,  3.7266e-02, -7.1155e-03,  ...,  6.6182e-04,\n",
      "          5.5460e-03, -4.2158e-04],\n",
      "        ...,\n",
      "        [ 6.1760e-03,  7.1478e-03,  5.7643e-03,  ...,  4.9056e-03,\n",
      "          1.2710e-02, -2.3472e-04],\n",
      "        [ 3.2119e-05,  6.1154e-03, -1.2217e-02,  ...,  8.4083e-03,\n",
      "          7.2522e-03,  5.5176e-03],\n",
      "        [-4.2891e-03,  8.7375e-03, -7.0943e-03,  ..., -9.2078e-03,\n",
      "          4.4697e-03,  4.9901e-03]], grad_fn=<SelectBackward0>)\n"
     ]
    }
   ],
   "source": [
    "latent_space_samples = torch.rand(batch_size, latent_dim)\n",
    "generated_samples = generator(latent_space_samples)\n",
    "generated_samples = generated_samples.view(batch_size, m_size, m_size)\n",
    "print(generated_samples[0])"
   ],
   "metadata": {
    "collapsed": false,
    "pycharm": {
     "name": "#%%\n"
    }
   }
  },
  {
   "cell_type": "code",
   "execution_count": 12,
   "outputs": [
    {
     "data": {
      "text/plain": "<Figure size 720x360 with 1 Axes>",
      "image/png": "[encoded data removed]"
     },
     "metadata": {
      "needs_background": "light"
     },
     "output_type": "display_data"
    }
   ],
   "source": [
    "plt.figure(figsize=(10,5))\n",
    "plt.title(\"Generator and Discriminator Loss During Training\")\n",
    "plt.plot(G_losses,label=\"G\")\n",
    "plt.plot(D_losses,label=\"D\")\n",
    "plt.xlabel(\"iterations\")\n",
    "plt.ylabel(\"Loss\")\n",
    "plt.legend()\n",
    "plt.show()"
   ],
   "metadata": {
    "collapsed": false,
    "pycharm": {
     "name": "#%%\n"
    }
   }
  },
  {
   "cell_type": "code",
   "execution_count": 12,
   "outputs": [],
   "source": [],
   "metadata": {
    "collapsed": false,
    "pycharm": {
     "name": "#%%\n"
    }
   }
  }
 ],
 "metadata": {
  "kernelspec": {
   "display_name": "Python 3",
   "language": "python",
   "name": "python3"
  },
  "language_info": {
   "codemirror_mode": {
    "name": "ipython",
    "version": 2
   },
   "file_extension": ".py",
   "mimetype": "text/x-python",
   "name": "python",
   "nbconvert_exporter": "python",
   "pygments_lexer": "ipython2",
   "version": "2.7.6"
  }
 },
 "nbformat": 4,
 "nbformat_minor": 0
}